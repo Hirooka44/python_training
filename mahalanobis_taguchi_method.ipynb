{
 "cells": [
  {
   "cell_type": "code",
   "execution_count": 1,
   "metadata": {},
   "outputs": [],
   "source": [
    "# -*- coding: utf-8 -*-\n",
    "\n",
    "import numpy as np\n",
    "import pandas as pd\n",
    "import sys\n",
    "from matplotlib import pyplot as plt\n",
    "from scipy.stats import chi2\n",
    "\n",
    "%matplotlib inline\n"
   ]
  },
  {
   "cell_type": "code",
   "execution_count": 2,
   "metadata": {},
   "outputs": [
    {
     "data": {
      "text/plain": [
       "array([[9.6800e+02, 6.4000e+01, 6.6000e+01, 6.2000e+01, 1.1900e+02],\n",
       "       [4.3000e+01, 4.0000e-01, 5.9000e+00, 3.0000e+01, 6.2000e+00],\n",
       "       [5.8800e+02, 1.2000e+01, 3.3000e+01, 6.4000e+01, 6.5000e+01],\n",
       "       [6.4000e+02, 3.4000e+01, 7.3000e+01, 5.1000e+01, 7.4000e+01],\n",
       "       [4.7430e+03, 1.0000e+02, 1.1800e+02, 6.5000e+01, 1.0500e+02],\n",
       "       [5.6600e+02, 1.7000e+01, 7.3000e+01, 4.2000e+01, 7.8000e+01],\n",
       "       [3.2500e+02, 5.1800e+02, 5.1000e+00, 3.7000e+01, 9.5000e+01],\n",
       "       [1.1800e+02, 2.2600e+02, 3.4000e+00, 4.1000e+01, 2.0000e+01],\n",
       "       [1.1500e+02, 1.2524e+04, 0.0000e+00, 4.4000e+01, 2.3000e+01],\n",
       "       [1.5450e+03, 9.1000e+01, 5.7000e+01, 6.7000e+01, 2.1600e+02],\n",
       "       [1.3020e+03, 6.8000e+01, 8.3000e+01, 5.4000e+01, 1.6200e+02],\n",
       "       [2.6200e+02, 8.1000e+00, 4.0000e+01, 3.6000e+01, 2.9000e+01],\n",
       "       [2.2070e+03, 1.8000e+02, 1.0200e+02, 3.3000e+01, 3.5000e+02],\n",
       "       [1.4100e+03, 1.2900e+02, 8.9000e+01, 3.7000e+01, 1.9600e+02],\n",
       "       [8.3300e+02, 4.9000e+01, 1.0000e+02, 3.0000e+01, 1.0900e+02],\n",
       "       [6.6900e+02, 2.7000e+01, 1.2400e+02, 4.2000e+01, 9.4000e+01],\n",
       "       [9.1100e+02, 7.6000e+01, 6.5000e+01, 4.4000e+01, 1.0400e+02],\n",
       "       [1.0370e+03, 7.2000e+01, 4.0000e+01, 6.5000e+01, 1.0900e+02],\n",
       "       [1.1960e+03, 3.1000e+01, 1.9000e+01, 3.0000e+01, 3.7000e+01],\n",
       "       [6.1600e+02, 3.1400e+02, 2.9000e+01, 4.4000e+01, 1.1300e+02],\n",
       "       [7.6600e+02, 6.5500e+02, 1.7000e+01, 3.7000e+01, 1.6600e+02],\n",
       "       [2.1200e+03, 1.3700e+02, 9.5000e+01, 3.3000e+01, 3.0600e+02],\n",
       "       [8.4100e+02, 4.3000e+01, 1.1000e+02, 2.2000e+01, 1.3200e+02],\n",
       "       [6.4800e+02, 4.6000e+01, 5.9000e+01, 5.7000e+01, 7.7000e+01],\n",
       "       [1.2890e+03, 6.3000e+01, 1.0000e+02, 4.0000e+01, 1.8000e+02],\n",
       "       [2.5900e+02, 4.6000e+00, 7.2000e+01, 2.9000e+01, 3.0000e+00]])"
      ]
     },
     "execution_count": 2,
     "metadata": {},
     "output_type": "execute_result"
    }
   ],
   "source": [
    "# 観測データを取得\n",
    "df = pd.read_csv(\"road.csv\", index_col=0)   # インデックス列は除いて読み込む\n",
    "\n",
    "# Numpyのarray型へ変換\n",
    "X = df.drop(\"drivers\", axis=1)\n",
    "X = X.values\n",
    "X"
   ]
  },
  {
   "cell_type": "code",
   "execution_count": 3,
   "metadata": {},
   "outputs": [
    {
     "data": {
      "text/plain": [
       "array([[158],\n",
       "       [ 11],\n",
       "       [ 91],\n",
       "       [ 92],\n",
       "       [952],\n",
       "       [109],\n",
       "       [167],\n",
       "       [ 30],\n",
       "       [ 35],\n",
       "       [298],\n",
       "       [203],\n",
       "       [ 41],\n",
       "       [544],\n",
       "       [254],\n",
       "       [150],\n",
       "       [136],\n",
       "       [147],\n",
       "       [146],\n",
       "       [ 46],\n",
       "       [157],\n",
       "       [255],\n",
       "       [403],\n",
       "       [189],\n",
       "       [ 85],\n",
       "       [234],\n",
       "       [ 38]], dtype=int64)"
      ]
     },
     "execution_count": 3,
     "metadata": {},
     "output_type": "execute_result"
    }
   ],
   "source": [
    "drivers = pd.DataFrame(df[\"drivers\"])\n",
    "drivers = drivers.values\n",
    "drivers"
   ]
  },
  {
   "cell_type": "code",
   "execution_count": 9,
   "metadata": {},
   "outputs": [
    {
     "name": "stdout",
     "output_type": "stream",
     "text": [
      "Index(['Alaska', 'Dela', 'DC', 'Idaho', 'Maine', 'Mont'], dtype='object')\n",
      "[4.89256838 1.06746666 4.29601326 2.90424221 4.48389158 4.76026157]\n"
     ]
    }
   ],
   "source": [
    "# マハラノビス=タグチ法\n",
    "X = X / drivers     # 1ドライバー当たりの数値に変換\n",
    "X = np.log(X + 1)   # 対数変換（ボックス=コックス変換）\n",
    "\n",
    "mx = X.mean(axis=0) # 標本平均\n",
    "Xc = X - mx         # 中心化したデータ行列\n",
    "\n",
    "# Sx = (1.0 / len(X)) * Xc.T.dot(Xc) # 標本共分散行列\n",
    "\n",
    "Sx = np.cov(X, rowvar=0, bias=1) # 標本共分散行列\n",
    "\n",
    "a = (Xc.dot(np.linalg.pinv(Sx)) * Xc).sum(axis=1) / X.shape[1]  # 1変数当たりの異常度\n",
    "\n",
    "# 閾値を決定\n",
    "# （標本が正常範囲に入るように1変数当たりのマハラノビス距離の閾値を決める）\n",
    "th = 1.0\n",
    "\n",
    "state_label = df.index[a>th]    # 閾値を超えた州の名前リスト\n",
    "state_a = a[a>th]               # 閾値を超えた州の異常度リスト\n",
    "print(state_label)\n",
    "print(state_a)\n"
   ]
  },
  {
   "cell_type": "code",
   "execution_count": 10,
   "metadata": {},
   "outputs": [
    {
     "data": {
      "image/png": "[encoded data removed]",
      "text/plain": [
       "<Figure size 432x288 with 1 Axes>"
      ]
     },
     "metadata": {
      "needs_background": "light"
     },
     "output_type": "display_data"
    }
   ],
   "source": [
    "# プロット\n",
    "plt.plot(range(len(a)), a, \"bo\")\n",
    "plt.axhline(y=th,color='red')\n",
    "plt.title(\"Anomaly score\")\n",
    "plt.xlabel(\"Sample number\")\n",
    "plt.ylabel(\"Anomaly score\")\n",
    "plt.show()"
   ]
  },
  {
   "cell_type": "code",
   "execution_count": 6,
   "metadata": {},
   "outputs": [],
   "source": [
    "# SN比解析\n",
    "xc_prime = Xc[4,:]  # 中心化行列からCalifのデータ行を取得\n",
    "SN1 = 10 * np.log10(xc_prime**2 / np.diag(Sx))\n",
    "SEN = 10 * np.log10(xc_prime**2)"
   ]
  },
  {
   "cell_type": "code",
   "execution_count": 11,
   "metadata": {},
   "outputs": [
    {
     "data": {
      "image/png": "[encoded data removed]",
      "text/plain": [
       "<Figure size 432x288 with 1 Axes>"
      ]
     },
     "metadata": {
      "needs_background": "light"
     },
     "output_type": "display_data"
    }
   ],
   "source": [
    "plt.bar(range(len(SN1)), SN1, tick_label=[\"deaths\",\"popden\",\"rural\",\"temp\",\"fuel\"], align=\"center\")\n",
    "plt.title(\"SN ratio\")\n",
    "plt.show()"
   ]
  },
  {
   "cell_type": "code",
   "execution_count": 12,
   "metadata": {},
   "outputs": [
    {
     "data": {
      "image/png": "[encoded data removed]",
      "text/plain": [
       "<Figure size 432x288 with 1 Axes>"
      ]
     },
     "metadata": {
      "needs_background": "light"
     },
     "output_type": "display_data"
    }
   ],
   "source": [
    "plt.bar(range(len(SEN)), SEN, tick_label=[\"deaths\",\"popden\",\"rural\",\"temp\",\"fuel\"], align=\"center\")\n",
    "plt.title(\"SN ratio\")\n",
    "plt.show()"
   ]
  },
  {
   "cell_type": "code",
   "execution_count": null,
   "metadata": {},
   "outputs": [],
   "source": []
  }
 ],
 "metadata": {
  "kernelspec": {
   "display_name": "Python 3",
   "language": "python",
   "name": "python3"
  },
  "language_info": {
   "codemirror_mode": {
    "name": "ipython",
    "version": 3
   },
   "file_extension": ".py",
   "mimetype": "text/x-python",
   "name": "python",
   "nbconvert_exporter": "python",
   "pygments_lexer": "ipython3",
   "version": "3.6.6"
  }
 },
 "nbformat": 4,
 "nbformat_minor": 2
}
