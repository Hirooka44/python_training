{
 "cells": [
  {
   "cell_type": "code",
   "execution_count": null,
   "metadata": {},
   "outputs": [],
   "source": [
    "# -*- coding: utf-8 -*-\n",
    "\"\"\"\n",
    "@author: Hiromasa Kaneko\n",
    "課題2: iris.csvを読み込み共分散と相関係数を求めそれぞれcovariance.csv, correlation_coefficient.csvに保存するプログラムを\n",
    "作成せよ。自分なりの方法で各統計量があっているか確認せよ。\n",
    "\"\"\"\n",
    "\n",
    "import pandas as pd\n",
    "\n",
    "raw_data = pd.read_csv('iris.csv', encoding='SHIFT-JIS', index_col=0)\n",
    "\n",
    "covariance = raw_data.cov()\n",
    "covariance.to_csv('covariance.csv')\n",
    "\n",
    "correlation_coefficient = raw_data.corr()\n",
    "correlation_coefficient.to_csv('correlation_coefficient.csv')\n"
   ]
  }
 ],
 "metadata": {
  "kernelspec": {
   "display_name": "Python 3",
   "language": "python",
   "name": "python3"
  },
  "language_info": {
   "codemirror_mode": {
    "name": "ipython",
    "version": 3
   },
   "file_extension": ".py",
   "mimetype": "text/x-python",
   "name": "python",
   "nbconvert_exporter": "python",
   "pygments_lexer": "ipython3",
   "version": "3.6.6"
  }
 },
 "nbformat": 4,
 "nbformat_minor": 2
}
