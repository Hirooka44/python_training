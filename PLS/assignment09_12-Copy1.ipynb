{
 "cells": [
  {
   "cell_type": "code",
   "execution_count": 1,
   "metadata": {},
   "outputs": [],
   "source": [
    "%matplotlib inline"
   ]
  },
  {
   "cell_type": "code",
   "execution_count": 2,
   "metadata": {},
   "outputs": [
    {
     "name": "stdout",
     "output_type": "stream",
     "text": [
      "1 / 196\n",
      "2 / 196\n",
      "3 / 196\n",
      "4 / 196\n",
      "5 / 196\n",
      "6 / 196\n",
      "7 / 196\n",
      "8 / 196\n",
      "9 / 196\n",
      "10 / 196\n",
      "11 / 196\n",
      "12 / 196\n",
      "13 / 196\n",
      "14 / 196\n",
      "15 / 196\n",
      "16 / 196\n",
      "17 / 196\n",
      "18 / 196\n",
      "19 / 196\n",
      "20 / 196\n",
      "21 / 196\n",
      "22 / 196\n",
      "23 / 196\n",
      "24 / 196\n",
      "25 / 196\n",
      "26 / 196\n",
      "27 / 196\n",
      "28 / 196\n",
      "29 / 196\n",
      "30 / 196\n",
      "31 / 196\n",
      "32 / 196\n",
      "33 / 196\n",
      "34 / 196\n",
      "35 / 196\n",
      "36 / 196\n",
      "37 / 196\n",
      "38 / 196\n",
      "39 / 196\n",
      "40 / 196\n",
      "41 / 196\n",
      "42 / 196\n",
      "43 / 196\n",
      "44 / 196\n",
      "45 / 196\n",
      "46 / 196\n",
      "47 / 196\n",
      "48 / 196\n",
      "49 / 196\n",
      "50 / 196\n",
      "51 / 196\n",
      "52 / 196\n",
      "53 / 196\n",
      "54 / 196\n",
      "55 / 196\n",
      "56 / 196\n",
      "57 / 196\n",
      "58 / 196\n",
      "59 / 196\n",
      "60 / 196\n",
      "61 / 196\n",
      "62 / 196\n",
      "63 / 196\n",
      "64 / 196\n",
      "65 / 196\n",
      "66 / 196\n",
      "67 / 196\n",
      "68 / 196\n",
      "69 / 196\n",
      "70 / 196\n",
      "71 / 196\n",
      "72 / 196\n",
      "73 / 196\n",
      "74 / 196\n",
      "75 / 196\n",
      "76 / 196\n",
      "77 / 196\n",
      "78 / 196\n",
      "79 / 196\n",
      "80 / 196\n",
      "81 / 196\n",
      "82 / 196\n",
      "83 / 196\n",
      "84 / 196\n",
      "85 / 196\n",
      "86 / 196\n",
      "87 / 196\n",
      "88 / 196\n",
      "89 / 196\n",
      "90 / 196\n",
      "91 / 196\n",
      "92 / 196\n",
      "93 / 196\n",
      "94 / 196\n",
      "95 / 196\n",
      "96 / 196\n",
      "97 / 196\n",
      "98 / 196\n",
      "99 / 196\n",
      "100 / 196\n",
      "101 / 196\n",
      "102 / 196\n",
      "103 / 196\n",
      "104 / 196\n",
      "105 / 196\n",
      "106 / 196\n",
      "107 / 196\n",
      "108 / 196\n",
      "109 / 196\n",
      "110 / 196\n",
      "111 / 196\n",
      "112 / 196\n",
      "113 / 196\n",
      "114 / 196\n",
      "115 / 196\n",
      "116 / 196\n",
      "117 / 196\n",
      "118 / 196\n",
      "119 / 196\n",
      "120 / 196\n",
      "121 / 196\n",
      "122 / 196\n",
      "123 / 196\n",
      "124 / 196\n",
      "125 / 196\n",
      "126 / 196\n",
      "127 / 196\n",
      "128 / 196\n",
      "129 / 196\n",
      "130 / 196\n",
      "131 / 196\n",
      "132 / 196\n",
      "133 / 196\n",
      "134 / 196\n",
      "135 / 196\n",
      "136 / 196\n",
      "137 / 196\n",
      "138 / 196\n",
      "139 / 196\n",
      "140 / 196\n",
      "141 / 196\n",
      "142 / 196\n",
      "143 / 196\n",
      "144 / 196\n",
      "145 / 196\n",
      "146 / 196\n",
      "147 / 196\n",
      "148 / 196\n",
      "149 / 196\n",
      "150 / 196\n",
      "151 / 196\n",
      "152 / 196\n",
      "153 / 196\n",
      "154 / 196\n",
      "155 / 196\n",
      "156 / 196\n",
      "157 / 196\n",
      "158 / 196\n",
      "159 / 196\n",
      "160 / 196\n",
      "161 / 196\n",
      "162 / 196\n",
      "163 / 196\n",
      "164 / 196\n",
      "165 / 196\n",
      "166 / 196\n",
      "167 / 196\n",
      "168 / 196\n",
      "169 / 196\n",
      "170 / 196\n",
      "171 / 196\n",
      "172 / 196\n",
      "173 / 196\n",
      "174 / 196\n",
      "175 / 196\n",
      "176 / 196\n",
      "177 / 196\n",
      "178 / 196\n",
      "179 / 196\n",
      "180 / 196\n",
      "181 / 196\n",
      "182 / 196\n",
      "183 / 196\n",
      "184 / 196\n",
      "185 / 196\n",
      "186 / 196\n",
      "187 / 196\n",
      "188 / 196\n",
      "189 / 196\n",
      "190 / 196\n",
      "191 / 196\n",
      "192 / 196\n",
      "193 / 196\n",
      "194 / 196\n",
      "195 / 196\n",
      "196 / 196\n",
      "Variable numbers zero variance: [  5  36  37  38  42  43  50  56  60  67  68  69  73  82  84  85  86  87\n",
      "  88  89  90  96  97 100 106 107 108 112 113 114 115 116 117 118 119 120\n",
      " 121 124 125 126 128 129 130 131 132 133 134 135 136 137 138 139 140 141\n",
      " 142 143 144 145 147 149 150 151 152 153 154 155 157 158 159 160 161 162\n",
      " 163 164 165 166 167 168 169 170 171 172 173 174 175 176 177 178 179 180\n",
      " 181 182 183 184 185 186 187 188 189 190 191 192 193 194 195 196]\n",
      "# of X-variables: 90\n"
     ]
    }
   ],
   "source": [
    "# -*- coding: utf-8 -*-\n",
    "\"\"\"\n",
    "@author: Hiromasa Kaneko\n",
    "課題9: logSdataset1290.csvを読み込み、オートスケーリングしてからlogSと構造記述子との間で最小二乗法による重回帰分析を行え。\n",
    "計算できない場合は、その原因について調べて対処法を実行せよ。r2の計算、logSの実測値と計算値とのプロット、標準回帰係数の\n",
    "standard_regression_coefficients.csvへの保存を実施せよ。\n",
    "\n",
    "課題10: logSdataset1290.csvを読み込み、オートスケーリングしてからlogSと構造記述子との間でPLSを行え。成分数は2とする。\n",
    "r2の計算、logSの実測値と計算値とのプロット、標準回帰係数のstandard_regression_coefficients.csvへの保存を実施せよ。\n",
    "課題9の結果と比較して考察せよ\n",
    "\n",
    "課題11: logSdataset1290.csvを読み込み、オートスケーリングしてからlogSと構造記述子との間でPLSを行え。50成分までの\n",
    "成分数ごとのr2・r2cvのプロット、最適成分数におけるlogSの実測値と計算値とのプロットおよびlogSの実測値と\n",
    "クロスバリデーション推定値とのプロットを作成せよ。クロスバリデーションは2-fold クロスバリデーションとし、\n",
    "最適成分数はr2CVが最大のものとする。\n",
    "\n",
    "課題12: 課題11で50成分までにr2cvの値が小さい(たとえば負の値になる)ことがあるときはその原因を調べて対応し、\n",
    "r2cvを向上させよ。ただし、化合物は削除しないこととする。\n",
    "\"\"\"\n",
    "\n",
    "import matplotlib.figure as figure\n",
    "import matplotlib.pyplot as plt\n",
    "import numpy as np\n",
    "import pandas as pd\n",
    "from sklearn import model_selection\n",
    "from sklearn.cross_decomposition import PLSRegression\n",
    "from sklearn.linear_model import LinearRegression\n",
    "\n",
    "#regression_method_flag = 3  # 1:OLS, 2:PLS(constant component number), 3:PLS,\n",
    "pls_component_number = 2\n",
    "max_pls_component_number = 50\n",
    "fold_number = 5\n",
    "threshold_of_rate_of_same_value = 0.79\n",
    "do_autoscaling = True  # True or False\n",
    "\n",
    "# load data set\n",
    "raw_data_with_y = pd.read_csv('logSdataset1290.csv', encoding='SHIFT-JIS', index_col=0)\n",
    "\n",
    "raw_data_with_y = raw_data_with_y.loc[:, raw_data_with_y.mean().index]  # 平均を計算できる変数だけ選択\n",
    "\n",
    "# raw_data_with_y = raw_data_with_y.loc[raw_data_with_y.mean(axis=1).index,:] #平均を計算できるサンプルだけ選択\n",
    "\n",
    "raw_data_with_y = raw_data_with_y.replace(np.inf, np.nan).fillna(np.nan)  # infをnanに置き換えておく\n",
    "\n",
    "raw_data_with_y = raw_data_with_y.dropna(axis=1)  # nanのある変数を削除\n",
    "\n",
    "# raw_data_with_y = raw_data_with_y.dropna() #nanのあるサンプルを削除\n",
    "\n",
    "# logSdataset1290.csv用 変数選択により精度向上\n",
    "# raw_data_with_y = raw_data_with_y.drop(['Ipc','Kappa3'],axis=1) #Ipc:1139だけ外れ値をもつ記述子、Kappa3:889だけ外れ値をもつ記述子\n",
    "\n",
    "# delete duplicates\n",
    "# raw_data_with_y = raw_data_with_y.loc[~raw_data_with_y.index.duplicated(keep='first'),:] #重複したサンプルの最初を残す\n",
    "# raw_data_with_y = raw_data_with_y.loc[~raw_data_with_y.index.duplicated(keep='last'),:] #重複したサンプルの最後を残す\n",
    "\n",
    "raw_data_with_y = raw_data_with_y.loc[~raw_data_with_y.index.duplicated(keep=False), :]  # 重複したサンプルはすべて削除\n",
    "\n",
    "y = raw_data_with_y[raw_data_with_y.columns[0]]  #ｙとして1列目を指定\n",
    "\n",
    "rawX = raw_data_with_y[raw_data_with_y.columns[1:]]  #変数は2列目以降\n",
    "\n",
    "rawX_tmp = rawX.copy()  #Copyをとっておく\n",
    "\n",
    "# delete descriptors with high rate of the same values...threshold_of_rate_of_same_value = 0.79\n",
    "rate_of_same_value = list()\n",
    "num = 0\n",
    "\n",
    "for X_variable_name in rawX.columns:\n",
    "    num += 1\n",
    "    print('{0} / {1}'.format(num, rawX.shape[1]))\n",
    "    same_value_number = rawX[X_variable_name].value_counts()\n",
    "    rate_of_same_value.append(float(same_value_number[same_value_number.index[0]] / rawX.shape[0]))\n",
    "deleting_variable_numbers = np.where(np.array(rate_of_same_value) >= threshold_of_rate_of_same_value)\n",
    "\n",
    "\"\"\"\n",
    "# delete descriptors with zero variance\n",
    "deleting_variable_numbers = np.where( rawX.var() == 0 )\n",
    "\"\"\"\n",
    "\n",
    "if len(deleting_variable_numbers[0]) == 0:\n",
    "    X = rawX\n",
    "else:\n",
    "    X = rawX.drop(rawX.columns[deleting_variable_numbers], axis=1)\n",
    "    print('Variable numbers zero variance: {0}'.format(deleting_variable_numbers[0] + 1))\n",
    "\n",
    "print('# of X-variables: {0}'.format(X.shape[1]))\n",
    "\n"
   ]
  },
  {
   "cell_type": "code",
   "execution_count": 3,
   "metadata": {},
   "outputs": [],
   "source": [
    "# autoscaling　正規化  Z変換\n",
    "if do_autoscaling:\n",
    "    autoscaled_X = (X - X.mean(axis=0)) / X.std(axis=0, ddof=1)# N-1で割り算する デフォルトddof=1なので表記しなくてもよい\n",
    "    autoscaled_y = (y - y.mean()) / y.std(ddof=1)\n",
    "else:\n",
    "    autoscaled_X = X\n",
    "    autoscaled_y = y"
   ]
  },
  {
   "cell_type": "code",
   "execution_count": 4,
   "metadata": {},
   "outputs": [
    {
     "data": {
      "text/html": [
       "<div>\n",
       "<style scoped>\n",
       "    .dataframe tbody tr th:only-of-type {\n",
       "        vertical-align: middle;\n",
       "    }\n",
       "\n",
       "    .dataframe tbody tr th {\n",
       "        vertical-align: top;\n",
       "    }\n",
       "\n",
       "    .dataframe thead th {\n",
       "        text-align: right;\n",
       "    }\n",
       "</style>\n",
       "<table border=\"1\" class=\"dataframe\">\n",
       "  <thead>\n",
       "    <tr style=\"text-align: right;\">\n",
       "      <th></th>\n",
       "      <th>MolWt</th>\n",
       "      <th>HeavyAtomMolWt</th>\n",
       "      <th>ExactMolWt</th>\n",
       "      <th>NumValenceElectrons</th>\n",
       "      <th>MaxPartialCharge</th>\n",
       "      <th>MinPartialCharge</th>\n",
       "      <th>MaxAbsPartialCharge</th>\n",
       "      <th>MinAbsPartialCharge</th>\n",
       "      <th>MaxEStateIndex</th>\n",
       "      <th>MinEStateIndex</th>\n",
       "      <th>...</th>\n",
       "      <th>NumRotatableBonds</th>\n",
       "      <th>RingCount</th>\n",
       "      <th>MolLogP</th>\n",
       "      <th>MolMR</th>\n",
       "      <th>fr_C_O</th>\n",
       "      <th>fr_C_O_noCOO</th>\n",
       "      <th>fr_NH0</th>\n",
       "      <th>fr_benzene</th>\n",
       "      <th>fr_bicyclic</th>\n",
       "      <th>fr_halogen</th>\n",
       "    </tr>\n",
       "  </thead>\n",
       "  <tbody>\n",
       "    <tr>\n",
       "      <th>CC(N)=O</th>\n",
       "      <td>-1.462269</td>\n",
       "      <td>-1.434709</td>\n",
       "      <td>-1.462549</td>\n",
       "      <td>-1.396180</td>\n",
       "      <td>0.270119</td>\n",
       "      <td>-0.268989</td>\n",
       "      <td>0.239969</td>\n",
       "      <td>0.294365</td>\n",
       "      <td>0.233396</td>\n",
       "      <td>-0.043404</td>\n",
       "      <td>...</td>\n",
       "      <td>-0.925981</td>\n",
       "      <td>-1.088071</td>\n",
       "      <td>-1.563766</td>\n",
       "      <td>-1.594562</td>\n",
       "      <td>0.568142</td>\n",
       "      <td>0.726245</td>\n",
       "      <td>-0.495586</td>\n",
       "      <td>-0.87314</td>\n",
       "      <td>-0.4055</td>\n",
       "      <td>-0.472719</td>\n",
       "    </tr>\n",
       "    <tr>\n",
       "      <th>CNN</th>\n",
       "      <td>-1.599501</td>\n",
       "      <td>-1.587516</td>\n",
       "      <td>-1.600096</td>\n",
       "      <td>-1.517749</td>\n",
       "      <td>-1.342618</td>\n",
       "      <td>0.387459</td>\n",
       "      <td>-0.423269</td>\n",
       "      <td>-1.420479</td>\n",
       "      <td>-1.117748</td>\n",
       "      <td>1.475921</td>\n",
       "      <td>...</td>\n",
       "      <td>-0.925981</td>\n",
       "      <td>-1.088071</td>\n",
       "      <td>-1.796634</td>\n",
       "      <td>-1.663571</td>\n",
       "      <td>-0.684129</td>\n",
       "      <td>-0.571421</td>\n",
       "      <td>-0.495586</td>\n",
       "      <td>-0.87314</td>\n",
       "      <td>-0.4055</td>\n",
       "      <td>-0.472719</td>\n",
       "    </tr>\n",
       "    <tr>\n",
       "      <th>CC(=O)O</th>\n",
       "      <td>-1.451878</td>\n",
       "      <td>-1.412971</td>\n",
       "      <td>-1.452124</td>\n",
       "      <td>-1.396180</td>\n",
       "      <td>0.912882</td>\n",
       "      <td>-1.014440</td>\n",
       "      <td>0.993131</td>\n",
       "      <td>0.988940</td>\n",
       "      <td>0.168476</td>\n",
       "      <td>-0.425891</td>\n",
       "      <td>...</td>\n",
       "      <td>-0.925981</td>\n",
       "      <td>-1.088071</td>\n",
       "      <td>-1.225116</td>\n",
       "      <td>-1.660902</td>\n",
       "      <td>0.568142</td>\n",
       "      <td>-0.571421</td>\n",
       "      <td>-0.495586</td>\n",
       "      <td>-0.87314</td>\n",
       "      <td>-0.4055</td>\n",
       "      <td>-0.472719</td>\n",
       "    </tr>\n",
       "    <tr>\n",
       "      <th>C1CCNC1</th>\n",
       "      <td>-1.334965</td>\n",
       "      <td>-1.347158</td>\n",
       "      <td>-1.335040</td>\n",
       "      <td>-1.213827</td>\n",
       "      <td>-1.365966</td>\n",
       "      <td>0.086578</td>\n",
       "      <td>-0.119275</td>\n",
       "      <td>-1.395249</td>\n",
       "      <td>-1.519439</td>\n",
       "      <td>1.167806</td>\n",
       "      <td>...</td>\n",
       "      <td>-0.925981</td>\n",
       "      <td>-0.288185</td>\n",
       "      <td>-1.067516</td>\n",
       "      <td>-1.286599</td>\n",
       "      <td>-0.684129</td>\n",
       "      <td>-0.571421</td>\n",
       "      <td>-0.495586</td>\n",
       "      <td>-0.87314</td>\n",
       "      <td>-0.4055</td>\n",
       "      <td>-0.472719</td>\n",
       "    </tr>\n",
       "    <tr>\n",
       "      <th>NC(=O)NO</th>\n",
       "      <td>-1.282882</td>\n",
       "      <td>-1.238339</td>\n",
       "      <td>-1.282561</td>\n",
       "      <td>-1.213827</td>\n",
       "      <td>1.180079</td>\n",
       "      <td>-0.135096</td>\n",
       "      <td>0.104691</td>\n",
       "      <td>1.277675</td>\n",
       "      <td>0.235425</td>\n",
       "      <td>-0.507347</td>\n",
       "      <td>...</td>\n",
       "      <td>-0.925981</td>\n",
       "      <td>-1.088071</td>\n",
       "      <td>-1.816751</td>\n",
       "      <td>-1.610004</td>\n",
       "      <td>0.568142</td>\n",
       "      <td>0.726245</td>\n",
       "      <td>-0.495586</td>\n",
       "      <td>-0.87314</td>\n",
       "      <td>-0.4055</td>\n",
       "      <td>-0.472719</td>\n",
       "    </tr>\n",
       "  </tbody>\n",
       "</table>\n",
       "<p>5 rows × 90 columns</p>\n",
       "</div>"
      ],
      "text/plain": [
       "             MolWt  HeavyAtomMolWt  ExactMolWt  NumValenceElectrons  \\\n",
       "CC(N)=O  -1.462269       -1.434709   -1.462549            -1.396180   \n",
       "CNN      -1.599501       -1.587516   -1.600096            -1.517749   \n",
       "CC(=O)O  -1.451878       -1.412971   -1.452124            -1.396180   \n",
       "C1CCNC1  -1.334965       -1.347158   -1.335040            -1.213827   \n",
       "NC(=O)NO -1.282882       -1.238339   -1.282561            -1.213827   \n",
       "\n",
       "          MaxPartialCharge  MinPartialCharge  MaxAbsPartialCharge  \\\n",
       "CC(N)=O           0.270119         -0.268989             0.239969   \n",
       "CNN              -1.342618          0.387459            -0.423269   \n",
       "CC(=O)O           0.912882         -1.014440             0.993131   \n",
       "C1CCNC1          -1.365966          0.086578            -0.119275   \n",
       "NC(=O)NO          1.180079         -0.135096             0.104691   \n",
       "\n",
       "          MinAbsPartialCharge  MaxEStateIndex  MinEStateIndex     ...      \\\n",
       "CC(N)=O              0.294365        0.233396       -0.043404     ...       \n",
       "CNN                 -1.420479       -1.117748        1.475921     ...       \n",
       "CC(=O)O              0.988940        0.168476       -0.425891     ...       \n",
       "C1CCNC1             -1.395249       -1.519439        1.167806     ...       \n",
       "NC(=O)NO             1.277675        0.235425       -0.507347     ...       \n",
       "\n",
       "          NumRotatableBonds  RingCount   MolLogP     MolMR    fr_C_O  \\\n",
       "CC(N)=O           -0.925981  -1.088071 -1.563766 -1.594562  0.568142   \n",
       "CNN               -0.925981  -1.088071 -1.796634 -1.663571 -0.684129   \n",
       "CC(=O)O           -0.925981  -1.088071 -1.225116 -1.660902  0.568142   \n",
       "C1CCNC1           -0.925981  -0.288185 -1.067516 -1.286599 -0.684129   \n",
       "NC(=O)NO          -0.925981  -1.088071 -1.816751 -1.610004  0.568142   \n",
       "\n",
       "          fr_C_O_noCOO    fr_NH0  fr_benzene  fr_bicyclic  fr_halogen  \n",
       "CC(N)=O       0.726245 -0.495586    -0.87314      -0.4055   -0.472719  \n",
       "CNN          -0.571421 -0.495586    -0.87314      -0.4055   -0.472719  \n",
       "CC(=O)O      -0.571421 -0.495586    -0.87314      -0.4055   -0.472719  \n",
       "C1CCNC1      -0.571421 -0.495586    -0.87314      -0.4055   -0.472719  \n",
       "NC(=O)NO      0.726245 -0.495586    -0.87314      -0.4055   -0.472719  \n",
       "\n",
       "[5 rows x 90 columns]"
      ]
     },
     "execution_count": 4,
     "metadata": {},
     "output_type": "execute_result"
    }
   ],
   "source": [
    "autoscaled_X.head()"
   ]
  },
  {
   "cell_type": "code",
   "execution_count": 5,
   "metadata": {},
   "outputs": [
    {
     "data": {
      "text/plain": [
       "LinearRegression(copy_X=True, fit_intercept=True, n_jobs=None,\n",
       "         normalize=False)"
      ]
     },
     "execution_count": 5,
     "metadata": {},
     "output_type": "execute_result"
    }
   ],
   "source": [
    "#regression_method_flag == 1:  # Ordinary Least Squares\n",
    "regression_model = LinearRegression()\n",
    "\n",
    "regression_model.fit(autoscaled_X, autoscaled_y)"
   ]
  },
  {
   "cell_type": "code",
   "execution_count": 6,
   "metadata": {},
   "outputs": [
    {
     "name": "stdout",
     "output_type": "stream",
     "text": [
      "r2: 0.9173793276849627\n"
     ]
    }
   ],
   "source": [
    "# calculate y\n",
    "calculated_y = np.ndarray.flatten(regression_model.predict(autoscaled_X))\n",
    "estimated_y = np.ndarray.flatten(\n",
    "    model_selection.cross_val_predict(regression_model, autoscaled_X, autoscaled_y, cv=fold_number))\n",
    "\n",
    "if do_autoscaling:\n",
    "    calculated_y = calculated_y * y.std(ddof=1) + y.mean()\n",
    "    estimated_y = estimated_y * y.std(ddof=1) + y.mean()\n",
    "\n",
    "# r2\n",
    "print('r2: {0}'.format(float(1 - sum((y - calculated_y) ** 2) / sum((y - y.mean()) ** 2))))\n"
   ]
  },
  {
   "cell_type": "code",
   "execution_count": 7,
   "metadata": {},
   "outputs": [
    {
     "data": {
      "image/png": "[encoded data removed]",
      "text/plain": [
       "<Figure size 288x288 with 1 Axes>"
      ]
     },
     "metadata": {
      "needs_background": "light"
     },
     "output_type": "display_data"
    }
   ],
   "source": [
    "# yy-plot\n",
    "plt.figure(figsize=figure.figaspect(1))\n",
    "plt.scatter(y, calculated_y)\n",
    "YMax = np.max(np.array([np.array(y), calculated_y]))\n",
    "YMin = np.min(np.array([np.array(y), calculated_y]))\n",
    "plt.plot([YMin - 0.05 * (YMax - YMin), YMax + 0.05 * (YMax - YMin)],\n",
    "         [YMin - 0.05 * (YMax - YMin), YMax + 0.05 * (YMax - YMin)], 'k-')\n",
    "plt.ylim(YMin - 0.05 * (YMax - YMin), YMax + 0.05 * (YMax - YMin))\n",
    "plt.xlim(YMin - 0.05 * (YMax - YMin), YMax + 0.05 * (YMax - YMin))\n",
    "plt.xlabel('Actual Y')\n",
    "plt.ylabel('Calculated Y')\n",
    "plt.show()\n"
   ]
  },
  {
   "cell_type": "code",
   "execution_count": 8,
   "metadata": {},
   "outputs": [
    {
     "data": {
      "image/png": "[encoded data removed]",
      "text/plain": [
       "<Figure size 288x288 with 1 Axes>"
      ]
     },
     "metadata": {
      "needs_background": "light"
     },
     "output_type": "display_data"
    }
   ],
   "source": [
    "plt.figure(figsize=figure.figaspect(1))\n",
    "\n",
    "plt.scatter(y, estimated_y)\n",
    "\n",
    "YMax = np.max(np.array([np.array(y), estimated_y]))\n",
    "YMin = np.min(np.array([np.array(y), estimated_y]))\n",
    "plt.plot([YMin - 0.05 * (YMax - YMin), YMax + 0.05 * (YMax - YMin)],\n",
    "         [YMin - 0.05 * (YMax - YMin), YMax + 0.05 * (YMax - YMin)], 'k-')\n",
    "\n",
    "plt.ylim(YMin - 0.05 * (YMax - YMin), YMax + 0.05 * (YMax - YMin))\n",
    "plt.xlim(YMin - 0.05 * (YMax - YMin), YMax + 0.05 * (YMax - YMin))\n",
    "plt.xlabel('Actual Y')\n",
    "plt.ylabel('Estimated Y')\n",
    "plt.show()\n"
   ]
  },
  {
   "cell_type": "code",
   "execution_count": 9,
   "metadata": {},
   "outputs": [],
   "source": [
    "# standard regression coefficients\n",
    "standard_regression_coefficients = regression_model.coef_\n",
    "standard_regression_coefficients = pd.DataFrame(standard_regression_coefficients)\n",
    "standard_regression_coefficients.index = X.columns\n",
    "standard_regression_coefficients.columns = ['standard regression coefficient']\n",
    "standard_regression_coefficients.to_csv('OLS_standard_regression_coefficients.csv')\n"
   ]
  },
  {
   "cell_type": "code",
   "execution_count": 10,
   "metadata": {},
   "outputs": [
    {
     "data": {
      "text/plain": [
       "PLSRegression(copy=True, max_iter=500, n_components=2, scale=True, tol=1e-06)"
      ]
     },
     "execution_count": 10,
     "metadata": {},
     "output_type": "execute_result"
    }
   ],
   "source": [
    "#regression_method_flag == 2:  # Partial Least Squares with constant component\n",
    "regression_model = PLSRegression(n_components=pls_component_number)\n",
    "\n",
    "regression_model.fit(autoscaled_X, autoscaled_y)"
   ]
  },
  {
   "cell_type": "code",
   "execution_count": 11,
   "metadata": {},
   "outputs": [
    {
     "name": "stdout",
     "output_type": "stream",
     "text": [
      "r2: 0.8113628122615792\n"
     ]
    }
   ],
   "source": [
    "# calculate y\n",
    "calculated_y = np.ndarray.flatten(regression_model.predict(autoscaled_X))\n",
    "estimated_y = np.ndarray.flatten(\n",
    "    model_selection.cross_val_predict(regression_model, autoscaled_X, autoscaled_y, cv=fold_number))\n",
    "\n",
    "if do_autoscaling:\n",
    "    calculated_y = calculated_y * y.std(ddof=1) + y.mean()\n",
    "    estimated_y = estimated_y * y.std(ddof=1) + y.mean()\n",
    "\n",
    "# r2\n",
    "print('r2: {0}'.format(float(1 - sum((y - calculated_y) ** 2) / sum((y - y.mean()) ** 2))))\n"
   ]
  },
  {
   "cell_type": "code",
   "execution_count": 12,
   "metadata": {},
   "outputs": [
    {
     "data": {
      "image/png": "[encoded data removed]",
      "text/plain": [
       "<Figure size 288x288 with 1 Axes>"
      ]
     },
     "metadata": {
      "needs_background": "light"
     },
     "output_type": "display_data"
    }
   ],
   "source": [
    "# yy-plot\n",
    "plt.figure(figsize=figure.figaspect(1))\n",
    "plt.scatter(y, calculated_y)\n",
    "YMax = np.max(np.array([np.array(y), calculated_y]))\n",
    "YMin = np.min(np.array([np.array(y), calculated_y]))\n",
    "plt.plot([YMin - 0.05 * (YMax - YMin), YMax + 0.05 * (YMax - YMin)],\n",
    "         [YMin - 0.05 * (YMax - YMin), YMax + 0.05 * (YMax - YMin)], 'k-')\n",
    "plt.ylim(YMin - 0.05 * (YMax - YMin), YMax + 0.05 * (YMax - YMin))\n",
    "plt.xlim(YMin - 0.05 * (YMax - YMin), YMax + 0.05 * (YMax - YMin))\n",
    "plt.xlabel('Actual Y')\n",
    "plt.ylabel('Calculated Y')\n",
    "plt.show()\n"
   ]
  },
  {
   "cell_type": "code",
   "execution_count": 13,
   "metadata": {},
   "outputs": [
    {
     "data": {
      "image/png": "[encoded data removed]",
      "text/plain": [
       "<Figure size 288x288 with 1 Axes>"
      ]
     },
     "metadata": {
      "needs_background": "light"
     },
     "output_type": "display_data"
    }
   ],
   "source": [
    "plt.figure(figsize=figure.figaspect(1))\n",
    "\n",
    "plt.scatter(y, estimated_y)\n",
    "\n",
    "YMax = np.max(np.array([np.array(y), estimated_y]))\n",
    "YMin = np.min(np.array([np.array(y), estimated_y]))\n",
    "plt.plot([YMin - 0.05 * (YMax - YMin), YMax + 0.05 * (YMax - YMin)],\n",
    "         [YMin - 0.05 * (YMax - YMin), YMax + 0.05 * (YMax - YMin)], 'k-')\n",
    "\n",
    "plt.ylim(YMin - 0.05 * (YMax - YMin), YMax + 0.05 * (YMax - YMin))\n",
    "plt.xlim(YMin - 0.05 * (YMax - YMin), YMax + 0.05 * (YMax - YMin))\n",
    "plt.xlabel('Actual Y')\n",
    "plt.ylabel('Estimated Y')\n",
    "plt.show()\n"
   ]
  },
  {
   "cell_type": "code",
   "execution_count": 14,
   "metadata": {},
   "outputs": [],
   "source": [
    "# standard regression coefficients\n",
    "standard_regression_coefficients = regression_model.coef_\n",
    "standard_regression_coefficients = pd.DataFrame(standard_regression_coefficients)\n",
    "standard_regression_coefficients.index = X.columns\n",
    "standard_regression_coefficients.columns = ['standard regression coefficient']\n",
    "standard_regression_coefficients.to_csv('PLSwCC_standard_regression_coefficients.csv')\n"
   ]
  },
  {
   "cell_type": "code",
   "execution_count": 15,
   "metadata": {},
   "outputs": [
    {
     "data": {
      "image/png": "[encoded data removed]",
      "text/plain": [
       "<Figure size 432x288 with 1 Axes>"
      ]
     },
     "metadata": {
      "needs_background": "light"
     },
     "output_type": "display_data"
    },
    {
     "data": {
      "text/plain": [
       "PLSRegression(copy=True, max_iter=500, n_components=46, scale=True, tol=1e-06)"
      ]
     },
     "execution_count": 15,
     "metadata": {},
     "output_type": "execute_result"
    }
   ],
   "source": [
    "#regression_method_flag == 3:  # Partial Least Squares\n",
    "pls_components = np.arange(1, min(np.linalg.matrix_rank(autoscaled_X) + 1, max_pls_component_number + 1), 1)\n",
    "r2all = list()\n",
    "r2cvall = list()\n",
    "    \n",
    "for pls_component in pls_components:\n",
    "    pls_model_in_cv = PLSRegression(n_components=pls_component)\n",
    "    pls_model_in_cv.fit(autoscaled_X, autoscaled_y)\n",
    "        \n",
    "    calculated_y_in_cv = np.ndarray.flatten(pls_model_in_cv.predict(autoscaled_X))\n",
    "    estimated_y_in_cv = np.ndarray.flatten(\n",
    "        model_selection.cross_val_predict(pls_model_in_cv, autoscaled_X, autoscaled_y, cv=fold_number))\n",
    "        \n",
    "    if do_autoscaling:\n",
    "        calculated_y_in_cv = calculated_y_in_cv * y.std(ddof=1) + y.mean()\n",
    "        estimated_y_in_cv = estimated_y_in_cv * y.std(ddof=1) + y.mean()\n",
    "        \n",
    "    r2all.append(float(1 - sum((y - calculated_y_in_cv) ** 2) / sum((y - y.mean()) ** 2)))\n",
    "    r2cvall.append(float(1 - sum((y - estimated_y_in_cv) ** 2) / sum((y - y.mean()) ** 2)))\n",
    "    \n",
    "plt.plot(pls_components, r2all, 'bo-')\n",
    "plt.plot(pls_components, r2cvall, 'ro-')\n",
    "plt.ylim(0, 1)\n",
    "plt.xlabel('Number of PLS components')\n",
    "plt.ylabel('r2(blue), r2cv(red)')\n",
    "plt.show()\n",
    "\n",
    "optimal_pls_component_number = np.where(r2cvall == np.max(r2cvall))\n",
    "optimal_pls_component_number = optimal_pls_component_number[0][0] + 1\n",
    "regression_model = PLSRegression(n_components=optimal_pls_component_number)\n",
    "\n",
    "regression_model.fit(autoscaled_X, autoscaled_y)\n",
    "\n"
   ]
  },
  {
   "cell_type": "code",
   "execution_count": 16,
   "metadata": {},
   "outputs": [
    {
     "name": "stdout",
     "output_type": "stream",
     "text": [
      "r2: 0.9135670864965596\n"
     ]
    }
   ],
   "source": [
    "# calculate y\n",
    "calculated_y = np.ndarray.flatten(regression_model.predict(autoscaled_X))\n",
    "estimated_y = np.ndarray.flatten(\n",
    "    model_selection.cross_val_predict(regression_model, autoscaled_X, autoscaled_y, cv=fold_number))\n",
    "\n",
    "if do_autoscaling:\n",
    "    calculated_y = calculated_y * y.std(ddof=1) + y.mean()\n",
    "    estimated_y = estimated_y * y.std(ddof=1) + y.mean()\n",
    "\n",
    "# r2\n",
    "print('r2: {0}'.format(float(1 - sum((y - calculated_y) ** 2) / sum((y - y.mean()) ** 2))))"
   ]
  },
  {
   "cell_type": "code",
   "execution_count": 17,
   "metadata": {},
   "outputs": [
    {
     "data": {
      "image/png": "[encoded data removed]",
      "text/plain": [
       "<Figure size 288x288 with 1 Axes>"
      ]
     },
     "metadata": {
      "needs_background": "light"
     },
     "output_type": "display_data"
    }
   ],
   "source": [
    "# yy-plot\n",
    "plt.figure(figsize=figure.figaspect(1))\n",
    "plt.scatter(y, calculated_y)\n",
    "YMax = np.max(np.array([np.array(y), calculated_y]))\n",
    "YMin = np.min(np.array([np.array(y), calculated_y]))\n",
    "plt.plot([YMin - 0.05 * (YMax - YMin), YMax + 0.05 * (YMax - YMin)],\n",
    "         [YMin - 0.05 * (YMax - YMin), YMax + 0.05 * (YMax - YMin)], 'k-')\n",
    "plt.ylim(YMin - 0.05 * (YMax - YMin), YMax + 0.05 * (YMax - YMin))\n",
    "plt.xlim(YMin - 0.05 * (YMax - YMin), YMax + 0.05 * (YMax - YMin))\n",
    "plt.xlabel('Actual Y')\n",
    "plt.ylabel('Calculated Y')\n",
    "plt.show()\n"
   ]
  },
  {
   "cell_type": "code",
   "execution_count": 18,
   "metadata": {},
   "outputs": [
    {
     "data": {
      "image/png": "[encoded data removed]",
      "text/plain": [
       "<Figure size 288x288 with 1 Axes>"
      ]
     },
     "metadata": {
      "needs_background": "light"
     },
     "output_type": "display_data"
    }
   ],
   "source": [
    "plt.figure(figsize=figure.figaspect(1))\n",
    "\n",
    "plt.scatter(y, estimated_y)\n",
    "\n",
    "YMax = np.max(np.array([np.array(y), estimated_y]))\n",
    "YMin = np.min(np.array([np.array(y), estimated_y]))\n",
    "plt.plot([YMin - 0.05 * (YMax - YMin), YMax + 0.05 * (YMax - YMin)],\n",
    "         [YMin - 0.05 * (YMax - YMin), YMax + 0.05 * (YMax - YMin)], 'k-')\n",
    "\n",
    "plt.ylim(YMin - 0.05 * (YMax - YMin), YMax + 0.05 * (YMax - YMin))\n",
    "plt.xlim(YMin - 0.05 * (YMax - YMin), YMax + 0.05 * (YMax - YMin))\n",
    "plt.xlabel('Actual Y')\n",
    "plt.ylabel('Estimated Y')\n",
    "plt.show()\n"
   ]
  },
  {
   "cell_type": "code",
   "execution_count": 19,
   "metadata": {},
   "outputs": [],
   "source": [
    "# standard regression coefficients\n",
    "standard_regression_coefficients = regression_model.coef_\n",
    "standard_regression_coefficients = pd.DataFrame(standard_regression_coefficients)\n",
    "standard_regression_coefficients.index = X.columns\n",
    "standard_regression_coefficients.columns = ['standard regression coefficient']\n",
    "standard_regression_coefficients.to_csv('PLS_standard_regression_coefficients.csv')\n"
   ]
  },
  {
   "cell_type": "code",
   "execution_count": 34,
   "metadata": {},
   "outputs": [
    {
     "data": {
      "text/plain": [
       "(39, 90)"
      ]
     },
     "execution_count": 34,
     "metadata": {},
     "output_type": "execute_result"
    }
   ],
   "source": [
    "# ViP (Variable Importance in the Projection) \n",
    "model = regression_model\n",
    "\n",
    "t = model.x_scores_\n",
    "w = model.x_weights_\n",
    "q = model.y_loadings_\n",
    "\n",
    "m, p = autoscaled_X.shape\n",
    "_, h = t.shape\n",
    "\n",
    "vips = np.zeros((p,))\n",
    "\n",
    "s = np.diag(t.T @ t @ q.T @ q).reshape(h, -1)\n",
    "total_s = np.sum(s)\n",
    "\n",
    "for i in range(p):\n",
    "    weight = np.array([ (w[i,j] / np.linalg.norm(w[:,j]))**2 for j in range(h) ])\n",
    "    vips[i] = np.sqrt(p*(s.T @ weight)/total_s)\n",
    "\n",
    "vips_selected_list=[]\n",
    "vips_series = pd.Series(vips, index=autoscaled_X.columns)\n",
    "vips_series.to_csv('Variable Importance in the Projecttion.csv')\n",
    "#VIPが１以上のものを抽出する．\n",
    "vips_selected = vips_series[vips_series >= 1.0]\n",
    "vips_selected_list = vips_selected.index\n",
    "len(vips_selected_list), p"
   ]
  },
  {
   "cell_type": "code",
   "execution_count": null,
   "metadata": {},
   "outputs": [],
   "source": []
  }
 ],
 "metadata": {
  "kernelspec": {
   "display_name": "Python 3",
   "language": "python",
   "name": "python3"
  },
  "language_info": {
   "codemirror_mode": {
    "name": "ipython",
    "version": 3
   },
   "file_extension": ".py",
   "mimetype": "text/x-python",
   "name": "python",
   "nbconvert_exporter": "python",
   "pygments_lexer": "ipython3",
   "version": "3.6.6"
  }
 },
 "nbformat": 4,
 "nbformat_minor": 2
}
