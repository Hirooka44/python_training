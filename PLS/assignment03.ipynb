{
 "cells": [
  {
   "cell_type": "code",
   "execution_count": 1,
   "metadata": {},
   "outputs": [],
   "source": [
    "# -*- coding: utf-8 -*-\n",
    "\"\"\"\n",
    "@author: Hiromasa Kaneko\n",
    "課題3: まずはオートスケーリング(標準化)について調べよ。次に、iris.csvを読み込みオートスケーリングを行って\n",
    "autoscaled_data.csvに保存するプログラムを作成せよ。自分なりの方法で結果があっているか確認せよ。\n",
    "\"\"\"\n",
    "\n",
    "import pandas as pd\n",
    "\n",
    "raw_data = pd.read_csv('iris.csv', encoding='SHIFT-JIS', index_col=0)\n",
    "\n",
    "autoscaled_data = (raw_data - raw_data.mean(axis=0)) / raw_data.std(axis=0, ddof=1)\n",
    "autoscaled_data.to_csv('autoscaled_data.csv')\n"
   ]
  },
  {
   "cell_type": "code",
   "execution_count": null,
   "metadata": {},
   "outputs": [],
   "source": []
  }
 ],
 "metadata": {
  "kernelspec": {
   "display_name": "Python 3",
   "language": "python",
   "name": "python3"
  },
  "language_info": {
   "codemirror_mode": {
    "name": "ipython",
    "version": 3
   },
   "file_extension": ".py",
   "mimetype": "text/x-python",
   "name": "python",
   "nbconvert_exporter": "python",
   "pygments_lexer": "ipython3",
   "version": "3.6.6"
  }
 },
 "nbformat": 4,
 "nbformat_minor": 2
}
